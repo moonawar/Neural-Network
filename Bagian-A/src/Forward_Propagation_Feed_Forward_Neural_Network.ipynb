{
  "cells": [
    {
      "cell_type": "code",
      "execution_count": 247,
      "metadata": {
        "id": "oz0otAKgK6pZ"
      },
      "outputs": [],
      "source": [
        "import numpy as np\n",
        "import json\n",
        "import networkx as nx\n",
        "import matplotlib.pyplot as plt"
      ]
    },
    {
      "cell_type": "code",
      "execution_count": 248,
      "metadata": {
        "id": "4Xrz_kzsKKjL"
      },
      "outputs": [],
      "source": [
        "activation = [\n",
        "    'relu',\n",
        "    'sigmoid',\n",
        "    'linear',\n",
        "    'softmax',\n",
        "]"
      ]
    },
    {
      "cell_type": "code",
      "execution_count": 249,
      "metadata": {
        "id": "2HNg3_NQKQ73"
      },
      "outputs": [],
      "source": [
        "class ActivationFunction:\n",
        "    def __init__(self, activation_function):\n",
        "        if activation_function == 'sigmoid':\n",
        "            self.function = lambda net: 1 / (1 + np.exp(-net))\n",
        "        elif activation_function == 'relu':\n",
        "            self.function = lambda net: np.maximum(0, net)\n",
        "        elif activation_function == 'linear':\n",
        "            self.function = lambda net: net\n",
        "        elif activation_function == 'softmax':\n",
        "            self.function = lambda net: np.exp(net) / np.sum(np.exp(net))\n",
        "\n",
        "    def get_activation_function(self):\n",
        "        return self.function"
      ]
    },
    {
      "cell_type": "code",
      "execution_count": 250,
      "metadata": {
        "id": "yKQX8-nXHuJ7"
      },
      "outputs": [],
      "source": [
        "class Layer:\n",
        "    def __init__(self, neuron: int, activation_function: str, weights: np.array, bias: np.array):\n",
        "        self.neuron = neuron\n",
        "        self.weights = weights\n",
        "        self.bias = bias\n",
        "        if activation_function not in activation:\n",
        "            raise Exception('Invalid activation function')\n",
        "        else:\n",
        "            self.activation_function = activation_function\n",
        "            self.function = ActivationFunction(activation_function).get_activation_function()\n",
        "\n",
        "    def forward(self, input: np.array):\n",
        "        output = self.function(np.dot(input, self.weights) + self.bias)\n",
        "        return np.round(output, decimals=7)"
      ]
    },
    {
      "cell_type": "code",
      "execution_count": 251,
      "metadata": {
        "id": "6EqC5A7ZKqpv"
      },
      "outputs": [],
      "source": [
        "class FFNN:\n",
        "    def __init__(self):\n",
        "        self.layers = []\n",
        "        self.node_bobots = []\n",
        "\n",
        "    def add_layer(self, layer: Layer):\n",
        "        self.layers.append(layer)\n",
        "\n",
        "    def forward(self, input: np.array):\n",
        "        output = input\n",
        "\n",
        "        self.node_bobots.append(output[0])\n",
        "        for layer in self.layers:\n",
        "            output = layer.forward(output)\n",
        "            temp_nodes = output[0].tolist()\n",
        "            self.node_bobots.append(temp_nodes)\n",
        "        return output"
      ]
    },
    {
      "cell_type": "code",
      "execution_count": 252,
      "metadata": {},
      "outputs": [],
      "source": [
        "class NeuralNetworkGraph:\n",
        "    def __init__(self):\n",
        "        self.graphs = nx.DiGraph()\n",
        "        self.node_labels = {}\n",
        "\n",
        "    def add_nodes_layer(self, nodes, layer):\n",
        "        self.graphs.add_nodes_from(nodes, layer=layer)\n",
        "\n",
        "    def add_edge(self, node_source, node_goal):\n",
        "        self.graphs.add_edge(node_source, node_goal)\n",
        "\n",
        "    def add_all_nodes(self, node_bobots):\n",
        "\n",
        "        # Add input bias label\n",
        "        self.node_labels[0] = \"Input\"+str(0)+\": \"+str(1)\n",
        "\n",
        "        node_number = 1\n",
        "\n",
        "        self.add_nodes_layer([i for i in range(len(node_bobots[0])+1)], 0)\n",
        "\n",
        "        # Add input label\n",
        "        for i, node_value in enumerate(node_bobots[0]):\n",
        "            self.node_labels[node_number] = \"Input\"+str(i+1)+\": \"+str(node_value)\n",
        "            node_number += 1\n",
        "\n",
        "        # Add nodes for each layer with the subset key\n",
        "        for i in range(1, len(node_bobots)):\n",
        "            self.node_labels[node_number] = \"W\"+str(i)+str(0)+\": \"+str(1)\n",
        "            self.add_nodes_layer([node_number+j for j in range(len(node_bobots[i])+1)], i)\n",
        "            node_number += 1\n",
        "            for j in range(len(node_bobots[i])):\n",
        "                self.node_labels[node_number] = \"W\"+str(i)+str(j+1)+\": \"+str(node_bobots[i][j])\n",
        "                node_number += 1\n",
        "\n",
        "        self.add_nodes_layer([node_number+j for j in range(len(node_bobots[-1]))], len(node_bobots))\n",
        "\n",
        "        # Add output nodes\n",
        "        for i, node_value in enumerate(node_bobots[-1]):\n",
        "            self.node_labels[node_number] = \"Output\"+str(i+1)+\": \"+str(node_value)\n",
        "            node_number += 1\n",
        "\n",
        "    def add_all_edges(self, node_bobots):\n",
        "        number_of_prev_neuron = 0\n",
        "        curr_number_neuron = 0\n",
        "\n",
        "        # Add edge for each node of input layer and hidden layer\n",
        "        for layer_number in range(len(node_bobots)-1):\n",
        "            curr_number_neuron += len(node_bobots[layer_number])+1\n",
        "\n",
        "            for i in range(len(node_bobots[layer_number])+1):\n",
        "                for j in range(len(node_bobots[layer_number+1])):\n",
        "                    self.add_edge(number_of_prev_neuron, curr_number_neuron+j+1)\n",
        "                number_of_prev_neuron += 1\n",
        "\n",
        "        # Add edge for each node on output layer\n",
        "        curr_number_neuron += len(node_bobots[-1])+1\n",
        "        for i in range(len(node_bobots[-1])+1):\n",
        "            for j in range(len(node_bobots[-1])):\n",
        "                self.add_edge(number_of_prev_neuron, curr_number_neuron+j)\n",
        "            number_of_prev_neuron += 1\n",
        "        \n",
        "        "
      ]
    },
    {
      "cell_type": "code",
      "execution_count": 254,
      "metadata": {
        "id": "8bF3LAT5KyGy"
      },
      "outputs": [
        {
          "name": "stdout",
          "output_type": "stream",
          "text": [
            "---------------------\n",
            "[[-1.0, 0.5], [0.2592251, 0.7407749]]\n",
            "---------------------\n",
            "output: [[0.2592251, 0.7407749]]\n",
            "expected output: [[0.2592, 0.7408]]\n"
          ]
        }
      ],
      "source": [
        "model = open(f'../../Bagian-A/test/softmax.json', 'r')\n",
        "model = json.load(model)\n",
        "\n",
        "layers = model['case']['model']['layers']\n",
        "weights = model['case']['weights']\n",
        "\n",
        "ffnn = FFNN()\n",
        "for i in range (len(layers)):\n",
        "    layer = layers[i]\n",
        "    weight = weights[i]\n",
        "    ffnn.add_layer(Layer(layer[\"number_of_neurons\"], layer[\"activation_function\"], np.array(weight[1:]), np.array(weight[0])))\n",
        "print(\"---------------------\")\n",
        "input = model[\"case\"][\"input\"]\n",
        "\n",
        "output = ffnn.forward(input).tolist()\n",
        "print(ffnn.node_bobots)\n",
        "print(\"---------------------\")\n",
        "expected_output = model['expect']['output']\n",
        "\n",
        "print(f'output: {output}')\n",
        "print(f'expected output: {expected_output}')"
      ]
    },
    {
      "cell_type": "code",
      "execution_count": 255,
      "metadata": {},
      "outputs": [
        {
          "name": "stdout",
          "output_type": "stream",
          "text": [
            "[0, 1, 2, 3, 4, 5, 6, 7]\n",
            "{0: 'Input0: 1', 1: 'Input1: -1.0', 2: 'Input2: 0.5', 3: 'W10: 1', 4: 'W11: 0.2592251', 5: 'W12: 0.7407749', 6: 'Output1: 0.2592251', 7: 'Output2: 0.7407749'}\n"
          ]
        },
        {
          "data": {
            "image/png": "[encoded data removed]",
            "text/plain": [
              "<Figure size 640x480 with 1 Axes>"
            ]
          },
          "metadata": {},
          "output_type": "display_data"
        }
      ],
      "source": [
        "# Initialize a directed graph for visualization\n",
        "neural_network_graph = NeuralNetworkGraph()\n",
        "\n",
        "neural_network_graph.add_all_nodes(ffnn.node_bobots)\n",
        "\n",
        "neural_network_graph.add_all_edges(ffnn.node_bobots)\n",
        "\n",
        "print(neural_network_graph.graphs.nodes())\n",
        "print(neural_network_graph.node_labels)\n",
        "\n",
        "# Assuming neural_network_graph.graphs is your graph object\n",
        "neural_network_graphs = neural_network_graph.graphs  # Assuming this is a correct reference\n",
        "\n",
        "# Add 'layer' attribute to nodes if it's missing\n",
        "for node in neural_network_graphs.nodes():\n",
        "    if 'layer' not in neural_network_graphs.nodes[node]:\n",
        "        neural_network_graphs.nodes[node]['layer'] = 0  # Set a default layer if needed\n",
        "\n",
        "# Plot the neural network structure\n",
        "pos = nx.multipartite_layout(neural_network_graphs, subset_key=\"layer\", align='horizontal')\n",
        "nx.draw(neural_network_graphs, pos, with_labels=True, labels=neural_network_graph.node_labels, node_size=2000, node_color=\"lightblue\", font_size=7, font_weight=\"bold\")\n",
        "\n",
        "# Add edge labels for better understanding\n",
        "edge_labels = {(u, v): f'' for u, v in neural_network_graphs.edges()}\n",
        "nx.draw_networkx_edge_labels(neural_network_graphs, pos, edge_labels=edge_labels, font_color='red')\n",
        "\n",
        "plt.title(\"Neural Network Structure (Input to Output)\")\n",
        "plt.axis('off')\n",
        "plt.show()"
      ]
    }
  ],
  "metadata": {
    "colab": {
      "provenance": []
    },
    "kernelspec": {
      "display_name": "Python 3",
      "name": "python3"
    },
    "language_info": {
      "codemirror_mode": {
        "name": "ipython",
        "version": 3
      },
      "file_extension": ".py",
      "mimetype": "text/x-python",
      "name": "python",
      "nbconvert_exporter": "python",
      "pygments_lexer": "ipython3",
      "version": "3.11.7"
    }
  },
  "nbformat": 4,
  "nbformat_minor": 0
}
